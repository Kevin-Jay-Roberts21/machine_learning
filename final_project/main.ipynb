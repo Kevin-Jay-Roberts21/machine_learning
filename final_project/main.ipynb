{
 "cells": [
  {
   "cell_type": "markdown",
   "id": "36332160",
   "metadata": {},
   "source": [
    "# Cassava Leaf Disease Project"
   ]
  },
  {
   "cell_type": "markdown",
   "id": "121571d1",
   "metadata": {},
   "source": [
    "### By: Kevin Roberts, Nathan Weber and Gabe Tonks"
   ]
  },
  {
   "cell_type": "markdown",
   "id": "31fedce7",
   "metadata": {},
   "source": [
    "First we import all necessary libraries:"
   ]
  },
  {
   "cell_type": "code",
   "execution_count": 1,
   "id": "6cd8d2bb",
   "metadata": {},
   "outputs": [],
   "source": [
    "import numpy as np\n",
    "import pandas as pd\n",
    "import os"
   ]
  },
  {
   "cell_type": "markdown",
   "id": "ae2b56cf",
   "metadata": {},
   "source": [
    "Then we read in the train.csv file:"
   ]
  },
  {
   "cell_type": "code",
   "execution_count": 4,
   "id": "0a80c1ef",
   "metadata": {},
   "outputs": [],
   "source": [
    "train_data = pd.read_csv(\"train.csv\")"
   ]
  },
  {
   "cell_type": "markdown",
   "id": "ad15b7cf",
   "metadata": {},
   "source": [
    "Each row of the data set train.csv represents a unique picture of a plant, and the first column is the name of the picture, and the second column is it's Cassava type. There are 5 different types: Cassava Bacterical Blight (CBB), Cassava Brown Streak Disease (CBSD), Cassava Green Mottle (CGM), Cassava Mosaic Disease (CMD), and Healthy. These can be put into a dictionary, identical to the one already given:"
   ]
  },
  {
   "cell_type": "code",
   "execution_count": 7,
   "id": "544e2dc3",
   "metadata": {},
   "outputs": [],
   "source": [
    "plant_dict = {\"0\": \"Cassava Bacterial Blight (CBB)\", \n",
    "              \"1\": \"Cassava Brown Streak Disease (CBSD)\", \n",
    "              \"2\": \"Cassava Green Mottle (CGM)\", \n",
    "              \"3\": \"Cassava Mosaic Disease (CMD)\", \n",
    "              \"4\": \"Healthy\"}"
   ]
  },
  {
   "cell_type": "markdown",
   "id": "ee14d77f",
   "metadata": {},
   "source": [
    "As a small test, we can get the plant description of say the 1st plant listed in the train.csv:"
   ]
  },
  {
   "cell_type": "code",
   "execution_count": 10,
   "id": "0621f304",
   "metadata": {},
   "outputs": [
    {
     "name": "stdout",
     "output_type": "stream",
     "text": [
      "The plant in row 50 is classified as: Cassava Bacterial Blight (CBB)\n"
     ]
    }
   ],
   "source": [
    "first_plant_name = plant_dict[str(train_data.iloc[0, 1])]\n",
    "print(\"The plant in row 50 is classified as: \" + str(first_plant_name))"
   ]
  },
  {
   "cell_type": "markdown",
   "id": "c16a47b0",
   "metadata": {},
   "source": [
    "For the first dummy submission, we apply a \"most frequent\" approach. We simply predict that given any plant, regardless of how it looks, will be classified as the the plant type that appears most frequently in the train data."
   ]
  },
  {
   "cell_type": "code",
   "execution_count": 13,
   "id": "e588b838",
   "metadata": {},
   "outputs": [
    {
     "name": "stdout",
     "output_type": "stream",
     "text": [
      "The most frequently occurring plant is: Cassava Mosaic Disease (CMD)\n"
     ]
    }
   ],
   "source": [
    "most_frequent = train_data.iloc[:, 1].mode()[0] # the most frequently classified plant in the train.csv\n",
    "print(\"The most frequently occurring plant is: \" + str(plant_dict[str(most_frequent)]))"
   ]
  },
  {
   "cell_type": "markdown",
   "id": "fc05b106",
   "metadata": {},
   "source": [
    "Now in the following lines of code we create a file to submit to Kaggle:"
   ]
  },
  {
   "cell_type": "code",
   "execution_count": 16,
   "id": "1785ad79",
   "metadata": {},
   "outputs": [],
   "source": [
    "test_images_folder = \"test_images\"\n",
    "test_image_names = os.listdir(test_images_folder)\n",
    "\n",
    "# Creating a submission Dataframe manually\n",
    "submission = pd.DataFrame({\n",
    "    \"image_id\": test_image_names,\n",
    "    \"label\": most_frequent\n",
    "})\n",
    "\n",
    "# Save the submission file\n",
    "submission.to_csv(\"most_frequent_submission.csv\", index=False)"
   ]
  },
  {
   "cell_type": "code",
   "execution_count": null,
   "id": "ba59beb3",
   "metadata": {},
   "outputs": [],
   "source": []
  },
  {
   "cell_type": "code",
   "execution_count": null,
   "id": "e6fb39aa",
   "metadata": {},
   "outputs": [],
   "source": []
  }
 ],
 "metadata": {
  "kernelspec": {
   "display_name": "Python 3 (ipykernel)",
   "language": "python",
   "name": "python3"
  },
  "language_info": {
   "codemirror_mode": {
    "name": "ipython",
    "version": 3
   },
   "file_extension": ".py",
   "mimetype": "text/x-python",
   "name": "python",
   "nbconvert_exporter": "python",
   "pygments_lexer": "ipython3",
   "version": "3.12.4"
  }
 },
 "nbformat": 4,
 "nbformat_minor": 5
}
